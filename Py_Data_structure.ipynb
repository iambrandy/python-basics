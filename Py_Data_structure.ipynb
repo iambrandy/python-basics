{
  "nbformat": 4,
  "nbformat_minor": 0,
  "metadata": {
    "colab": {
      "provenance": []
    },
    "kernelspec": {
      "name": "python3",
      "display_name": "Python 3"
    },
    "language_info": {
      "name": "python"
    }
  },
  "cells": [
    {
      "cell_type": "markdown",
      "source": [
        "# Data Types and Structures Questions"
      ],
      "metadata": {
        "id": "jqJ7i9e6bwRp"
      }
    },
    {
      "cell_type": "markdown",
      "source": [
        "1. What are data structures, and why are they important\n",
        "- Data structures are specialized format for organize and storing data also provide efficient way to manage information.\n",
        "2. Explain the difference between mutable and immutable data types with examples\n",
        "- the mutable data type such as list and dictionary, allow us to change value and data without effecting their identity. the immutable data type such as tuple and strings, dont allow us to inplace modification.\n",
        "3. What are the main differences between lists and tuples in Python\n",
        "- list are mutable data type and tuple are not.\n",
        "4. Describe how dictionaries store data\n",
        "- dictionary store data by objects or elements key and value.\n",
        "5. Why might you use a set instead of a list in Python\n",
        "- using a set in python instead of a list beacause of sets store unique element also set automatically remove dublicate element from the set of element.\n",
        "6. What is a string in Python, and how is it different from a list\n",
        "- string is a Characters arranged in an unchangeable order. Consider writing a sentence, a paragraph, or a piece of material. and a list are a collaction of elements which store data like string, numbers etc.\n",
        "7. How do tuples ensure data integrity in Python\n",
        "- tuple are a collection of element which is immutable data type so the data cant be change or modifiable so it enure the data integrity in python.\n",
        "8. What is a hash table, and how does it relate to dictionaries in Python\n",
        "- A hash table is a collection of associated pairs of items where each pair consists of a key and a value. Hash tables are often called the more general term map because the associated hash function “maps” the key to the value.\n",
        "When a key-value pair is inserted, the hash function calculates an index for the key, and the value is stored at that location. When retrieving a value, the same hash function is applied to the key to quickly locate its corresponding value.\n",
        "9. Can lists contain different data types in Python\n",
        "- yes lists contain different data types in python.\n",
        "10. Explain why strings are immutable in Python\n",
        "- strings are arranged characters in a unchangeable order beacause of that strings are immutable in python.\n",
        "11. What advantages do dictionaries offer over lists for certain tasks\n",
        "- Dictionaries in Python offer fast data retrieval, unlike lists where we have to traverse through each element to find a value. Dictionaries use hash tables for quick access to values based on keys.\n",
        "12. Describe a scenario where using a tuple would be preferable over a list\n",
        "- List can be used if we need a mutable collection of items where we may need to add, remove, or change elements. Tuple can be used if we need an immutable collection where the elements won't change after creation.\n",
        "13. How do sets handle duplicate values in Python\n",
        "- Python's set data type manages duplicate values by disallowing them.an element that already exists within a set, the set remains unchanged, and the duplicate element is not added. This characteristic with the mathematical definition of a set, which is an unordered collection of unique elements.\n",
        "14. How does the “in” keyword work differently for lists and dictionaries\n",
        "- \"in\" keyword work for lists to find a value in list or present in list and for dictionary it checks the membership operations,also use in iteration for loop.  \n",
        "15. Can you modify the elements of a tuple? Explain why or why not\n",
        "- No we can not modify the elements of tuple becuase of immutable data type it cant be changeable after creation of elements.\n",
        "16. What is a nested dictionary, and give an example of its use case\n",
        "- A nested dictionary in Python is a dictionary that contains other dictionaries as its values. Essentially, it's a dictionary within a dictionary.\n",
        "Example: This example creates a nested dictionary to store details of multiple students. Each student is added as a key and their information (name, age, grade) is stored in an inner dictionary.\n",
        "17. Describe the time complexity of accessing elements in a dictionary\n",
        "- Accessing elements in a dictionary (or hash table) typically has a time complexity of O(1) on average. This means that the time it takes to retrieve a value by its key is, on average, constant and doesn't depend on the size of the dictionary.\n",
        "However, in the worst-case scenario (which is rare), the time complexity can be O(n), where n is the number of elements in the dictionary, due to hash collisions.\n",
        "18. In what situations are lists preferred over dictionaries\n",
        "- Lists are faster for index-based access, whereas dictionary lookups require computing a hash. Dictionaries require more memory, as they store keys along with values, unlike lists.\n",
        "19. Why are dictionaries considered unordered, and how does that affect data retrieval\n",
        "- A dictionary is an unordered collection of objects because dictionaries do not maintain any inherent order of the items based on when they were added. Dictionaries are retrieve values when the key is known.\n",
        "20. Explain the difference between a list and a dictionary in terms of data retrieval.\n",
        "- A list is an ordered collection of items, whereas a dictionary is an unordered data collection in a key: value pair. Elements from the list can be accessed using the index, while the elements of the dictionary can be accessed using keys.\n"
      ],
      "metadata": {
        "id": "xUhQriRUb2rG"
      }
    },
    {
      "cell_type": "markdown",
      "source": [
        "# Practical Questions"
      ],
      "metadata": {
        "id": "X7bT7o5yzZJ6"
      }
    },
    {
      "cell_type": "markdown",
      "source": [
        "1. Write a code to create a string with your name and print it"
      ],
      "metadata": {
        "id": "tedREq1Pzdee"
      }
    },
    {
      "cell_type": "code",
      "source": [
        "name = input(\"Enter your name: \")\n",
        "print(f\"my name is {name}\")"
      ],
      "metadata": {
        "colab": {
          "base_uri": "https://localhost:8080/"
        },
        "id": "28_Gd0bdzYbg",
        "outputId": "a908d78d-2b24-48b7-ee8f-e4d7ee39ac67"
      },
      "execution_count": 2,
      "outputs": [
        {
          "output_type": "stream",
          "name": "stdout",
          "text": [
            "Enter your name: Hiten\n",
            "my name is Hiten\n"
          ]
        }
      ]
    },
    {
      "cell_type": "markdown",
      "source": [
        "2. Write a code to find the length of the string \"Hello World\""
      ],
      "metadata": {
        "id": "jyLKns5rzjfn"
      }
    },
    {
      "cell_type": "code",
      "source": [
        "a = \"Hello World\"\n",
        "len(a)"
      ],
      "metadata": {
        "colab": {
          "base_uri": "https://localhost:8080/"
        },
        "id": "dpYP076BzU29",
        "outputId": "a30e6f07-fc83-4edc-c13b-78afb5785b32"
      },
      "execution_count": 3,
      "outputs": [
        {
          "output_type": "execute_result",
          "data": {
            "text/plain": [
              "11"
            ]
          },
          "metadata": {},
          "execution_count": 3
        }
      ]
    },
    {
      "cell_type": "markdown",
      "source": [
        "3. Write a code to slice the first 3 characters from the string \"Python Programming\""
      ],
      "metadata": {
        "id": "sT6OUPKy0e06"
      }
    },
    {
      "cell_type": "code",
      "source": [
        "string = \"Python Programming\"\n",
        "string[:3]"
      ],
      "metadata": {
        "colab": {
          "base_uri": "https://localhost:8080/",
          "height": 35
        },
        "id": "K4S_WkUD0b-L",
        "outputId": "a395902e-96d9-4807-caad-c6b27d4dce01"
      },
      "execution_count": 5,
      "outputs": [
        {
          "output_type": "execute_result",
          "data": {
            "text/plain": [
              "'Pyt'"
            ],
            "application/vnd.google.colaboratory.intrinsic+json": {
              "type": "string"
            }
          },
          "metadata": {},
          "execution_count": 5
        }
      ]
    },
    {
      "cell_type": "markdown",
      "source": [
        "4. Write a code to convert the string \"hello\" to uppercase\n"
      ],
      "metadata": {
        "id": "Y5Y9XRWJ0fpI"
      }
    },
    {
      "cell_type": "code",
      "source": [
        "string1 = \"hello\"\n",
        "string1.upper()"
      ],
      "metadata": {
        "colab": {
          "base_uri": "https://localhost:8080/",
          "height": 35
        },
        "id": "o0X1AkR-0gfi",
        "outputId": "e40bc7e3-dfa6-4e97-f5d9-ba3ecccd00ed"
      },
      "execution_count": 6,
      "outputs": [
        {
          "output_type": "execute_result",
          "data": {
            "text/plain": [
              "'HELLO'"
            ],
            "application/vnd.google.colaboratory.intrinsic+json": {
              "type": "string"
            }
          },
          "metadata": {},
          "execution_count": 6
        }
      ]
    },
    {
      "cell_type": "markdown",
      "source": [
        "5. Write a code to replace the word \"apple\" with \"orange\" in the string \"I like apple\"\n"
      ],
      "metadata": {
        "id": "fDQOnbKx0hAK"
      }
    },
    {
      "cell_type": "code",
      "source": [
        "list1 = \"I like apple\"\n",
        "list1.replace(\"apple\",\"orange\")"
      ],
      "metadata": {
        "colab": {
          "base_uri": "https://localhost:8080/",
          "height": 35
        },
        "id": "zTvw7qIB0hY7",
        "outputId": "834700b3-4507-48cc-adb8-d45deb40c8ce"
      },
      "execution_count": 7,
      "outputs": [
        {
          "output_type": "execute_result",
          "data": {
            "text/plain": [
              "'I like orange'"
            ],
            "application/vnd.google.colaboratory.intrinsic+json": {
              "type": "string"
            }
          },
          "metadata": {},
          "execution_count": 7
        }
      ]
    },
    {
      "cell_type": "markdown",
      "source": [
        "6. Write a code to create a list with numbers 1 to 5 and print it\n"
      ],
      "metadata": {
        "id": "DUB3XjYJ0hp3"
      }
    },
    {
      "cell_type": "code",
      "source": [
        "a_list = [1,2,3,4,5]\n",
        "print(a_list)"
      ],
      "metadata": {
        "colab": {
          "base_uri": "https://localhost:8080/"
        },
        "id": "IogaZkzy0h7U",
        "outputId": "d1e460fd-b5a1-422c-ad16-ed940996c458"
      },
      "execution_count": 8,
      "outputs": [
        {
          "output_type": "stream",
          "name": "stdout",
          "text": [
            "[1, 2, 3, 4, 5]\n"
          ]
        }
      ]
    },
    {
      "cell_type": "markdown",
      "source": [
        "7. Write a code to append the number 10 to the list [1, 2, 3, 4]\n"
      ],
      "metadata": {
        "id": "iMvgshjp0iKV"
      }
    },
    {
      "cell_type": "code",
      "source": [
        "a_list1 = [1,2,3,4]\n",
        "a_list1.append(10)\n",
        "print(a_list1)"
      ],
      "metadata": {
        "colab": {
          "base_uri": "https://localhost:8080/"
        },
        "id": "gY2ZBxqj0iqF",
        "outputId": "2e34ba61-7441-4daa-c771-7c226b077cbe"
      },
      "execution_count": 9,
      "outputs": [
        {
          "output_type": "stream",
          "name": "stdout",
          "text": [
            "[1, 2, 3, 4, 10]\n"
          ]
        }
      ]
    },
    {
      "cell_type": "markdown",
      "source": [
        "8. Write a code to remove the number 3 from the list [1, 2, 3, 4, 5]\n"
      ],
      "metadata": {
        "id": "Wo9274_K3NaK"
      }
    },
    {
      "cell_type": "code",
      "source": [
        "a_list2 = [1,2,3,4,5]\n",
        "a_list2.remove(3)\n",
        "print(a_list2)"
      ],
      "metadata": {
        "colab": {
          "base_uri": "https://localhost:8080/"
        },
        "id": "lxlAkrFu3NHZ",
        "outputId": "2f6c748d-7da5-4d2a-c7dd-519a84007a3b"
      },
      "execution_count": 10,
      "outputs": [
        {
          "output_type": "stream",
          "name": "stdout",
          "text": [
            "[1, 2, 4, 5]\n"
          ]
        }
      ]
    },
    {
      "cell_type": "markdown",
      "source": [
        "9. Write a code to access the second element in the list ['a', 'b', 'c', 'd']\n"
      ],
      "metadata": {
        "id": "bCHZf17v3OqK"
      }
    },
    {
      "cell_type": "code",
      "source": [
        "a_list3 = ['a', 'b', 'c', 'd']\n",
        "a_list3[1]"
      ],
      "metadata": {
        "colab": {
          "base_uri": "https://localhost:8080/",
          "height": 35
        },
        "id": "wiQKxBlz3O_W",
        "outputId": "0cf2bc5c-f9f2-4c2a-fe57-0502f6076af2"
      },
      "execution_count": 11,
      "outputs": [
        {
          "output_type": "execute_result",
          "data": {
            "text/plain": [
              "'b'"
            ],
            "application/vnd.google.colaboratory.intrinsic+json": {
              "type": "string"
            }
          },
          "metadata": {},
          "execution_count": 11
        }
      ]
    },
    {
      "cell_type": "markdown",
      "source": [
        "10. Write a code to reverse the list [10, 20, 30, 40, 50].\n"
      ],
      "metadata": {
        "id": "VW7NlsZH3PZQ"
      }
    },
    {
      "cell_type": "code",
      "source": [
        "a_list4 = [10, 20, 30, 40, 50]\n",
        "a_list4.reverse()\n",
        "print(a_list4)"
      ],
      "metadata": {
        "colab": {
          "base_uri": "https://localhost:8080/"
        },
        "id": "ccXOx2Z03yz2",
        "outputId": "ed8430a5-0903-4a7e-bb41-4d54053cfeac"
      },
      "execution_count": 12,
      "outputs": [
        {
          "output_type": "stream",
          "name": "stdout",
          "text": [
            "[50, 40, 30, 20, 10]\n"
          ]
        }
      ]
    },
    {
      "cell_type": "markdown",
      "source": [
        "11. Write a code to create a tuple with the elements 100, 200, 300 and print it.\n"
      ],
      "metadata": {
        "id": "Yr8siMli4aza"
      }
    },
    {
      "cell_type": "code",
      "source": [
        "tuple1 = (100,200,300)\n",
        "print(tuple1)"
      ],
      "metadata": {
        "colab": {
          "base_uri": "https://localhost:8080/"
        },
        "id": "to_1SK6x4i7j",
        "outputId": "ae043203-64bb-4ffe-f77c-fdabc6afd780"
      },
      "execution_count": 13,
      "outputs": [
        {
          "output_type": "stream",
          "name": "stdout",
          "text": [
            "(100, 200, 300)\n"
          ]
        }
      ]
    },
    {
      "cell_type": "markdown",
      "source": [
        " 12. Write a code to access the second-to-last element of the tuple ('red', 'green', 'blue', 'yellow')."
      ],
      "metadata": {
        "id": "DY06nkhw4hXV"
      }
    },
    {
      "cell_type": "code",
      "source": [
        "a_tuple = ('red', 'green', 'blue', 'yellow')\n",
        "a_tuple[-2]"
      ],
      "metadata": {
        "colab": {
          "base_uri": "https://localhost:8080/",
          "height": 35
        },
        "id": "nz5ebUyU4jjy",
        "outputId": "6f0f599e-29fc-4c45-fc23-3705f80df394"
      },
      "execution_count": 14,
      "outputs": [
        {
          "output_type": "execute_result",
          "data": {
            "text/plain": [
              "'blue'"
            ],
            "application/vnd.google.colaboratory.intrinsic+json": {
              "type": "string"
            }
          },
          "metadata": {},
          "execution_count": 14
        }
      ]
    },
    {
      "cell_type": "markdown",
      "source": [
        " 13. Write a code to find the minimum number in the tuple (10, 20, 5, 15).\n"
      ],
      "metadata": {
        "id": "1dUL0yP14boI"
      }
    },
    {
      "cell_type": "code",
      "source": [
        "a_tuple1 = (10, 20, 5, 15)\n",
        "min(a_tuple1)"
      ],
      "metadata": {
        "colab": {
          "base_uri": "https://localhost:8080/"
        },
        "id": "obmXDlfp4aTT",
        "outputId": "c8114e2d-2cc7-4865-e208-45dc9ee29c80"
      },
      "execution_count": 15,
      "outputs": [
        {
          "output_type": "execute_result",
          "data": {
            "text/plain": [
              "5"
            ]
          },
          "metadata": {},
          "execution_count": 15
        }
      ]
    },
    {
      "cell_type": "markdown",
      "source": [
        " 14. Write a code to find the index of the element \"cat\" in the tuple ('dog', 'cat', 'rabbit').\n"
      ],
      "metadata": {
        "id": "KenWCETl4cBN"
      }
    },
    {
      "cell_type": "code",
      "source": [
        "a_tuple2 = ('dog', 'cat', 'rabbit')\n",
        "a_tuple2.index(\"cat\")"
      ],
      "metadata": {
        "colab": {
          "base_uri": "https://localhost:8080/"
        },
        "id": "_Z_bBVll4YY8",
        "outputId": "ccc7405d-fdf3-48cd-c682-d873745cd79a"
      },
      "execution_count": 16,
      "outputs": [
        {
          "output_type": "execute_result",
          "data": {
            "text/plain": [
              "1"
            ]
          },
          "metadata": {},
          "execution_count": 16
        }
      ]
    },
    {
      "cell_type": "markdown",
      "source": [
        " 15. Write a code to create a tuple containing three different fruits and check if \"kiwi\" is in it.\n"
      ],
      "metadata": {
        "id": "ATu9YrLv4eAR"
      }
    },
    {
      "cell_type": "code",
      "source": [
        "a_tuple3 = (\"apple\",\"banana\",\"kiwi\")\n",
        "\"kiwi\" in a_tuple3"
      ],
      "metadata": {
        "colab": {
          "base_uri": "https://localhost:8080/"
        },
        "id": "ZFL1EN3B4ceO",
        "outputId": "8348f3a2-e236-41b1-ed3f-37914a80c403"
      },
      "execution_count": 17,
      "outputs": [
        {
          "output_type": "execute_result",
          "data": {
            "text/plain": [
              "True"
            ]
          },
          "metadata": {},
          "execution_count": 17
        }
      ]
    },
    {
      "cell_type": "markdown",
      "source": [
        " 16. Write a code to create a set with the elements 'a', 'b', 'c' and print it.\n"
      ],
      "metadata": {
        "id": "gnbxkH2e4eWP"
      }
    },
    {
      "cell_type": "code",
      "source": [
        "set1 = {'a', 'b', 'c'}\n",
        "print(set1)"
      ],
      "metadata": {
        "colab": {
          "base_uri": "https://localhost:8080/"
        },
        "id": "5gvn5Det4dTf",
        "outputId": "ae4a5d1e-90cb-4215-81b0-17146cc210ee"
      },
      "execution_count": 18,
      "outputs": [
        {
          "output_type": "stream",
          "name": "stdout",
          "text": [
            "{'a', 'b', 'c'}\n"
          ]
        }
      ]
    },
    {
      "cell_type": "markdown",
      "source": [
        " 17. Write a code to clear all elements from the set {1, 2, 3, 4, 5}.\n"
      ],
      "metadata": {
        "id": "qMPgzgOV4esY"
      }
    },
    {
      "cell_type": "code",
      "source": [
        "set2 = {1, 2, 3, 4, 5}\n",
        "set2.clear()\n",
        "print(set2)"
      ],
      "metadata": {
        "colab": {
          "base_uri": "https://localhost:8080/"
        },
        "id": "BLWQAiF44dKs",
        "outputId": "8a7bd928-0c6f-4ee3-fd45-f3db7431e419"
      },
      "execution_count": 19,
      "outputs": [
        {
          "output_type": "stream",
          "name": "stdout",
          "text": [
            "set()\n"
          ]
        }
      ]
    },
    {
      "cell_type": "markdown",
      "source": [
        " 18. Write a code to remove the element 4 from the set {1, 2, 3, 4}.\n"
      ],
      "metadata": {
        "id": "G_9hJV7j4fOL"
      }
    },
    {
      "cell_type": "code",
      "source": [
        "set3 = {1, 2, 3, 4}\n",
        "set3.remove(4)\n",
        "print(set3)"
      ],
      "metadata": {
        "colab": {
          "base_uri": "https://localhost:8080/"
        },
        "id": "srRxF-0A4dDK",
        "outputId": "cbbf9bf4-769f-41d4-e409-d250f220c3c3"
      },
      "execution_count": 20,
      "outputs": [
        {
          "output_type": "stream",
          "name": "stdout",
          "text": [
            "{1, 2, 3}\n"
          ]
        }
      ]
    },
    {
      "cell_type": "markdown",
      "source": [
        " 19. Write a code to find the union of two sets {1, 2, 3} and {3, 4, 5}.\n"
      ],
      "metadata": {
        "id": "8QRrmREr4fp1"
      }
    },
    {
      "cell_type": "code",
      "source": [
        "a_set1 = {1, 2, 3}\n",
        "a_set2 = {3, 4, 5}\n",
        "a_set1.union(a_set2)"
      ],
      "metadata": {
        "colab": {
          "base_uri": "https://localhost:8080/"
        },
        "id": "JhGd6uUJ4c_X",
        "outputId": "cc52728b-f053-4b20-c0c2-17f6ae790709"
      },
      "execution_count": 21,
      "outputs": [
        {
          "output_type": "execute_result",
          "data": {
            "text/plain": [
              "{1, 2, 3, 4, 5}"
            ]
          },
          "metadata": {},
          "execution_count": 21
        }
      ]
    },
    {
      "cell_type": "markdown",
      "source": [
        " 20. Write a code to find the intersection of two sets {1, 2, 3} and {2, 3, 4}.\n"
      ],
      "metadata": {
        "id": "UXhRup_n433Q"
      }
    },
    {
      "cell_type": "code",
      "source": [
        "set_1 = {1, 2, 3}\n",
        "set_2 = {2, 3, 4}\n",
        "set_1.intersection(set_2)"
      ],
      "metadata": {
        "colab": {
          "base_uri": "https://localhost:8080/"
        },
        "id": "xgyBAfOV44SJ",
        "outputId": "6885de6a-e721-4703-966f-a6dcaf4ddbcc"
      },
      "execution_count": 22,
      "outputs": [
        {
          "output_type": "execute_result",
          "data": {
            "text/plain": [
              "{2, 3}"
            ]
          },
          "metadata": {},
          "execution_count": 22
        }
      ]
    },
    {
      "cell_type": "markdown",
      "source": [
        " 21. Write a code to create a dictionary with the keys \"name\", \"age\", and \"city\", and print it.\n"
      ],
      "metadata": {
        "id": "KGlJ7TGy9nTa"
      }
    },
    {
      "cell_type": "code",
      "source": [
        "a_dict = {\"name\": \"Hiten\", \"age\": 25, \"city\": \"Delhi Ncr\"}\n",
        "print(a_dict)"
      ],
      "metadata": {
        "colab": {
          "base_uri": "https://localhost:8080/"
        },
        "id": "My54wo239kyw",
        "outputId": "f2f9e284-2c87-4120-8809-b9861e110b21"
      },
      "execution_count": 24,
      "outputs": [
        {
          "output_type": "stream",
          "name": "stdout",
          "text": [
            "{'name': 'Hiten', 'age': 25, 'city': 'Delhi Ncr'}\n"
          ]
        }
      ]
    },
    {
      "cell_type": "markdown",
      "source": [
        " 22. Write a code to add a new key-value pair \"country\": \"USA\" to the dictionary {'name': 'John', 'age': 25}."
      ],
      "metadata": {
        "id": "cMq9vHIS9n9D"
      }
    },
    {
      "cell_type": "code",
      "source": [
        "a_dict1 = {'name': 'Hiten', 'age': 25}\n",
        "a_dict1[\"country\"] = \"USA\"\n",
        "print(a_dict1)"
      ],
      "metadata": {
        "colab": {
          "base_uri": "https://localhost:8080/"
        },
        "id": "DmUKAvD-9oU9",
        "outputId": "77aa91ae-2a41-4963-fd43-6c97dcc21f68"
      },
      "execution_count": 25,
      "outputs": [
        {
          "output_type": "stream",
          "name": "stdout",
          "text": [
            "{'name': 'Hiten', 'age': 25, 'country': 'USA'}\n"
          ]
        }
      ]
    },
    {
      "cell_type": "markdown",
      "source": [
        " 23. Write a code to access the value associated with the key \"name\" in the dictionary {'name': 'Alice', 'age': 30}.\n"
      ],
      "metadata": {
        "id": "0dDnrY9C9opU"
      }
    },
    {
      "cell_type": "code",
      "source": [
        "a_dict2 = {'name': 'Alice', 'age': 30}\n",
        "a_dict2[\"name\"]"
      ],
      "metadata": {
        "colab": {
          "base_uri": "https://localhost:8080/",
          "height": 35
        },
        "id": "Z7uZbpxj9pGX",
        "outputId": "db8f0ec8-ccf3-4f3f-bfbf-49f6de2e3192"
      },
      "execution_count": 26,
      "outputs": [
        {
          "output_type": "execute_result",
          "data": {
            "text/plain": [
              "'Alice'"
            ],
            "application/vnd.google.colaboratory.intrinsic+json": {
              "type": "string"
            }
          },
          "metadata": {},
          "execution_count": 26
        }
      ]
    },
    {
      "cell_type": "markdown",
      "source": [
        " 24. Write a code to remove the key \"age\" from the dictionary {'name': 'Bob', 'age': 22, 'city': 'New York'}.\n"
      ],
      "metadata": {
        "id": "412wQGWv9pUF"
      }
    },
    {
      "cell_type": "code",
      "source": [
        "a_dict3 = {'name': 'Bob', 'age': 22, 'city': 'New York'}\n",
        "del a_dict3[\"age\"]\n",
        "print(a_dict3)"
      ],
      "metadata": {
        "colab": {
          "base_uri": "https://localhost:8080/"
        },
        "id": "9YfNQMMg9ppV",
        "outputId": "1fb127be-08cf-47db-f955-6d243190c6d4"
      },
      "execution_count": 27,
      "outputs": [
        {
          "output_type": "stream",
          "name": "stdout",
          "text": [
            "{'name': 'Bob', 'city': 'New York'}\n"
          ]
        }
      ]
    },
    {
      "cell_type": "markdown",
      "source": [
        " 25. Write a code to check if the key \"city\" exists in the dictionary {'name': 'Alice', 'city': 'Paris'}.\n"
      ],
      "metadata": {
        "id": "zaqZ9DXn9p1Z"
      }
    },
    {
      "cell_type": "code",
      "source": [
        "a_dict4 =  {'name': 'Alice', 'city': 'Paris'}\n",
        "\"city\" in a_dict4"
      ],
      "metadata": {
        "colab": {
          "base_uri": "https://localhost:8080/"
        },
        "id": "h5OFG-Y79qO0",
        "outputId": "c120654e-7e7e-4795-ff2b-ace9477a3c31"
      },
      "execution_count": 28,
      "outputs": [
        {
          "output_type": "execute_result",
          "data": {
            "text/plain": [
              "True"
            ]
          },
          "metadata": {},
          "execution_count": 28
        }
      ]
    },
    {
      "cell_type": "markdown",
      "source": [
        " 26. Write a code to create a list, a tuple, and a dictionary, and print them all.\n"
      ],
      "metadata": {
        "id": "LCL-YeUH9qcZ"
      }
    },
    {
      "cell_type": "code",
      "source": [
        "a_listt = [1,2,3]\n",
        "a_tuplee = (1,2,3)\n",
        "a_dictt = {\"name\": \"Hiten\", \"age\": 25, \"city\": \"Delhi Ncr\"}\n",
        "print(a_listt)\n",
        "print(a_tuplee)\n",
        "print(a_dictt)"
      ],
      "metadata": {
        "colab": {
          "base_uri": "https://localhost:8080/"
        },
        "id": "j70T6m3Q9qwD",
        "outputId": "8375b4f6-ccff-44b9-a68e-0702dd207816"
      },
      "execution_count": 29,
      "outputs": [
        {
          "output_type": "stream",
          "name": "stdout",
          "text": [
            "[1, 2, 3]\n",
            "(1, 2, 3)\n",
            "{'name': 'Hiten', 'age': 25, 'city': 'Delhi Ncr'}\n"
          ]
        }
      ]
    },
    {
      "cell_type": "markdown",
      "source": [
        "27. Write a code to create a list of 5 random numbers between 1 and 100, sort it in ascending order, and print the result.(replaced)\n"
      ],
      "metadata": {
        "id": "gxPk7kFz9q-o"
      }
    },
    {
      "cell_type": "code",
      "source": [
        "a_listt = [1,5,10,42,15,30,7,99,37,17,26]\n",
        "a_listt.sort()\n",
        "print(a_listt)"
      ],
      "metadata": {
        "colab": {
          "base_uri": "https://localhost:8080/"
        },
        "id": "Np8OeXbT9rgh",
        "outputId": "3f353eac-e8c0-4001-c247-182e950913f0"
      },
      "execution_count": 33,
      "outputs": [
        {
          "output_type": "stream",
          "name": "stdout",
          "text": [
            "[1, 5, 7, 10, 15, 17, 26, 30, 37, 42, 99]\n"
          ]
        }
      ]
    },
    {
      "cell_type": "markdown",
      "source": [
        "28. Write a code to create a list with strings and print the element at the third index.\n"
      ],
      "metadata": {
        "id": "xk_mtFJl-NMF"
      }
    },
    {
      "cell_type": "code",
      "source": [
        "a_list5 = [\"apple\",\"banana\",\"kiwi\",\"orange\"]\n",
        "a_list5[2]"
      ],
      "metadata": {
        "colab": {
          "base_uri": "https://localhost:8080/",
          "height": 35
        },
        "id": "a0kaCTvC-NYv",
        "outputId": "1b9a76c3-aa68-4eba-fdca-5fb278f68da3"
      },
      "execution_count": 34,
      "outputs": [
        {
          "output_type": "execute_result",
          "data": {
            "text/plain": [
              "'kiwi'"
            ],
            "application/vnd.google.colaboratory.intrinsic+json": {
              "type": "string"
            }
          },
          "metadata": {},
          "execution_count": 34
        }
      ]
    },
    {
      "cell_type": "markdown",
      "source": [
        " 29. Write a code to combine two dictionaries into one and print the result.\n"
      ],
      "metadata": {
        "id": "5XLjBg4h-Nlq"
      }
    },
    {
      "cell_type": "code",
      "source": [
        "dict1 = {'a': 1, 'b': 2}\n",
        "dict2 = {'c': 3, 'd': 4}\n",
        "dict1.update(dict2)\n",
        "print(dict1)"
      ],
      "metadata": {
        "colab": {
          "base_uri": "https://localhost:8080/"
        },
        "id": "TZLR4BuW-O1I",
        "outputId": "9f4e2ae3-dbcb-47fb-b80b-a44a6c4b9792"
      },
      "execution_count": 35,
      "outputs": [
        {
          "output_type": "stream",
          "name": "stdout",
          "text": [
            "{'a': 1, 'b': 2, 'c': 3, 'd': 4}\n"
          ]
        }
      ]
    },
    {
      "cell_type": "markdown",
      "source": [
        " 30. Write a code to convert a list of strings into a set.\n"
      ],
      "metadata": {
        "id": "PWK2EDNn-RlA"
      }
    },
    {
      "cell_type": "code",
      "source": [
        "x = [\"apple\",\"orange\",\"kiwi\",\"mengo\"]\n",
        "set(x)"
      ],
      "metadata": {
        "colab": {
          "base_uri": "https://localhost:8080/"
        },
        "id": "6go9Sel--R5Y",
        "outputId": "3864b876-9d4b-4501-8f23-762d14aac988"
      },
      "execution_count": 36,
      "outputs": [
        {
          "output_type": "execute_result",
          "data": {
            "text/plain": [
              "{'apple', 'kiwi', 'mengo', 'orange'}"
            ]
          },
          "metadata": {},
          "execution_count": 36
        }
      ]
    }
  ]
}