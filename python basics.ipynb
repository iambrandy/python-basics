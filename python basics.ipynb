{
  "nbformat": 4,
  "nbformat_minor": 0,
  "metadata": {
    "colab": {
      "provenance": []
    },
    "kernelspec": {
      "name": "python3",
      "display_name": "Python 3"
    },
    "language_info": {
      "name": "python"
    }
  },
  "cells": [
    {
      "cell_type": "markdown",
      "source": [
        "# Python Basics Questions"
      ],
      "metadata": {
        "id": "p0dm5VMmDfOk"
      }
    },
    {
      "cell_type": "markdown",
      "source": [
        "1. What is Python, and why is it popular\n",
        "- python is a programming language and it is very easy to understand and write.it has a wide active community and also has a verstile librery. it is compatible with various programming paradigms such is object orientad and functional programming.\n",
        "\n",
        "2. What is an interpreter in Python\n",
        "- an interpreter in python is execute a code line by line without needed any compilation.\n",
        "\n",
        "3. What are pre-defined keywords in Python\n",
        "- pre-defined keyword in python is a reserved word that can not be used as a identifire such as variable names, function names etc. keyword examples are if, else, while and none etc... also keywords are case sensitive can not be redefined.\n",
        "\n",
        "4. Can keywords be used as variable names\n",
        "- No it cant be used as variable names becuase of it already reserved if we used as a variable name and after that we use that as a keyword in the same code it will get a error of not defined\n",
        "\n",
        "5. What is mutability in Python\n",
        "- mutability in python a object that can be changeable. examples such as dictionary and list\n",
        "\n",
        "6. Why are lists mutable, but tuples are immutable\n",
        "- lists mutable because of it contain element which can be changeable but tuples are immutable becuase of Once a tuple is created, its size and the values of its elements are fixed and it cant be changeable.\n",
        "\n",
        "7. What is the difference between “==” and “is” operators in Python\n",
        "- \"==\" and \"is\" operators in python \"==\" operator for comparission between two values and \"is\" operator for comparission between two object  identity.\n",
        "\n",
        "8. What are logical operators in Python\n",
        "- logical operators are and, or, not\n",
        "\n",
        "9. What is type casting in Python\n",
        "- type casting in python is refers to type conversion of data type.type casting examples such as int(), float(), str(), dict() etc..\n",
        "\n",
        "10. What is the difference between implicit and explicit type casting\n",
        "- implicite type casting is a type casting that dont need any in-built functions to run beacuase python understand the datatype and explicit type casting need in-built functions to run.\n",
        "\n",
        "11. What is the purpose of conditional statements in Python\n",
        "- conditional statement in python are used to execute code based on the certain given condition.\n",
        "\n",
        "12. How does the elif statement work\n",
        "- the elif statement When we write conditional statement and if \"if\" statement does not execute, it continue get into elif statement untill the condition get True.\n",
        "\n",
        "13. What is the difference between for and while loops\n",
        "- for loop are used for iterating a sequence elements and while loop are used to get executing code in loop untill the condition become false.\n",
        "\n",
        "14. Describe a scenario where a while loop is more suitable than a for loop.\n",
        "- scenario:i will go to watch cricket match with my friends untill they will get bored of me."
      ],
      "metadata": {
        "id": "AVe9UJDsDizs"
      }
    },
    {
      "cell_type": "markdown",
      "source": [
        "# Practical Questions"
      ],
      "metadata": {
        "id": "GHIjkOboeo0U"
      }
    },
    {
      "cell_type": "markdown",
      "source": [
        " 1. Write a Python program to print \"Hello, World!\n"
      ],
      "metadata": {
        "id": "ys0CgjbdevSk"
      }
    },
    {
      "cell_type": "code",
      "source": [
        "print(\"Hello,World!\")"
      ],
      "metadata": {
        "colab": {
          "base_uri": "https://localhost:8080/"
        },
        "id": "etNx59SuLdPG",
        "outputId": "57c0727f-fc06-47ca-aee0-0829596b791b"
      },
      "execution_count": null,
      "outputs": [
        {
          "output_type": "stream",
          "name": "stdout",
          "text": [
            "Hello,World!\n"
          ]
        }
      ]
    },
    {
      "cell_type": "markdown",
      "source": [
        "2. Write a Python program that displays your name and age"
      ],
      "metadata": {
        "id": "beZ9oaDdfaN4"
      }
    },
    {
      "cell_type": "code",
      "source": [
        "name = \"Hitendrasinh\"\n",
        "age = 25\n",
        "print(f\"my name is {name}.\")\n",
        "print(f\"my age is {age}.\")\n"
      ],
      "metadata": {
        "colab": {
          "base_uri": "https://localhost:8080/"
        },
        "id": "gi8k3y79f1UH",
        "outputId": "fc828053-28a4-4dc0-d9f0-040718a91a63"
      },
      "execution_count": null,
      "outputs": [
        {
          "output_type": "stream",
          "name": "stdout",
          "text": [
            "my name is Hitendrasinh.\n",
            "my age is 25.\n"
          ]
        }
      ]
    },
    {
      "cell_type": "markdown",
      "source": [
        "3. Write code to print all the pre-defined keywords in Python using the keyword library\n"
      ],
      "metadata": {
        "id": "1NVG4pRYhPZk"
      }
    },
    {
      "cell_type": "code",
      "source": [
        "import keyword\n",
        "print(keyword.kwlist)"
      ],
      "metadata": {
        "colab": {
          "base_uri": "https://localhost:8080/"
        },
        "id": "eiPsVzZ-hBAD",
        "outputId": "9f3b78c1-3f31-419b-e5dd-0ce840d5066f"
      },
      "execution_count": null,
      "outputs": [
        {
          "output_type": "stream",
          "name": "stdout",
          "text": [
            "['False', 'None', 'True', 'and', 'as', 'assert', 'async', 'await', 'break', 'class', 'continue', 'def', 'del', 'elif', 'else', 'except', 'finally', 'for', 'from', 'global', 'if', 'import', 'in', 'is', 'lambda', 'nonlocal', 'not', 'or', 'pass', 'raise', 'return', 'try', 'while', 'with', 'yield']\n"
          ]
        }
      ]
    },
    {
      "cell_type": "markdown",
      "source": [
        "4. Write a program that checks if a given word is a Python keyword."
      ],
      "metadata": {
        "id": "hwu9-P6JiOKp"
      }
    },
    {
      "cell_type": "code",
      "source": [
        "import keyword\n",
        "word = input(\"enter a word: \")\n",
        "if word in keyword.kwlist:\n",
        "    print(\"it is a python keyword\")\n",
        "else:\n",
        "    print(\"it is not a python keyword\")"
      ],
      "metadata": {
        "colab": {
          "base_uri": "https://localhost:8080/"
        },
        "id": "WvOePfHihk70",
        "outputId": "4b0cf67f-de4d-4eca-bc2b-0d55bba61b67"
      },
      "execution_count": null,
      "outputs": [
        {
          "output_type": "stream",
          "name": "stdout",
          "text": [
            "enter a word: continue\n",
            "it is a python keyword\n"
          ]
        }
      ]
    },
    {
      "cell_type": "markdown",
      "source": [
        "5.Create a list and tuple in Python, and demonstrate how attempting to change an element works differently\n",
        "for each."
      ],
      "metadata": {
        "id": "FKJAn5aDkfz4"
      }
    },
    {
      "cell_type": "code",
      "source": [
        "#list in python with demonstrate\n",
        "a_list = [\"apple\", \"orange\", \"pinapple\", \"mengo\", \"berry\"]\n",
        "a_list[2] = \"banana\"\n",
        "print(a_list)"
      ],
      "metadata": {
        "colab": {
          "base_uri": "https://localhost:8080/"
        },
        "id": "00w-rHeSil39",
        "outputId": "76f60a85-7882-4edc-df3e-d2d07449bf14"
      },
      "execution_count": null,
      "outputs": [
        {
          "output_type": "stream",
          "name": "stdout",
          "text": [
            "['apple', 'orange', 'banana', 'mengo', 'berry']\n"
          ]
        }
      ]
    },
    {
      "cell_type": "code",
      "source": [
        "#tuple in python with demonstrate\n",
        "b_tuple = (\"car\", \"bike\", 100 , 2.5, 25)\n",
        "b_tuple[2] = \"bus\"\n",
        "print(b_tuple)\n",
        "#tuple is a immutable so we cant change any element in the tuple beacuse element fixed when it created"
      ],
      "metadata": {
        "id": "2fO7ER-VmUyK"
      },
      "execution_count": null,
      "outputs": []
    },
    {
      "cell_type": "markdown",
      "source": [
        "6. Write a function to demonstrate the behavior of mutable and immutable arguments."
      ],
      "metadata": {
        "id": "kCot2odCnsdL"
      }
    },
    {
      "cell_type": "code",
      "source": [
        "a = 5\n",
        "lst = [1, 2, 3]\n",
        "def change_values(a, lst):\n",
        "    a += 5\n",
        "    lst.append(4)\n",
        "change_values(a, lst)\n",
        "print(a)\n",
        "print(lst)"
      ],
      "metadata": {
        "id": "VMkmx2Zmm6Fd",
        "colab": {
          "base_uri": "https://localhost:8080/"
        },
        "outputId": "3a9a2782-ecf2-45fd-c8e5-967f2c84b9f1"
      },
      "execution_count": null,
      "outputs": [
        {
          "output_type": "stream",
          "name": "stdout",
          "text": [
            "5\n",
            "[1, 2, 3, 4]\n"
          ]
        }
      ]
    },
    {
      "cell_type": "markdown",
      "source": [
        " 7. Write a program that performs basic arithmetic operations on two user-input numbers."
      ],
      "metadata": {
        "id": "WMjvNLtboNwa"
      }
    },
    {
      "cell_type": "code",
      "source": [
        "a = int(input(\"enter a number: \"))\n",
        "b = int(input(\"enter a number: \"))\n",
        "print(f\"add of {a} and {b} is {a+b}\")\n",
        "print(f\"sub of {a} and {b} is {a-b}\")\n",
        "print(f\"mul of {a} and {b} is {a*b}\")\n",
        "print(f\"div of {a} and {b} is {a/b}\")"
      ],
      "metadata": {
        "colab": {
          "base_uri": "https://localhost:8080/"
        },
        "id": "HBu6viHBoRci",
        "outputId": "0e5554e1-1f16-4a2f-89f9-9b69256369fd"
      },
      "execution_count": null,
      "outputs": [
        {
          "output_type": "stream",
          "name": "stdout",
          "text": [
            "enter a number: 15\n",
            "enter a number: 10\n",
            "add of 15 and 10 is 25\n",
            "sub of 15 and 10 is 5\n",
            "mul of 15 and 10 is 150\n",
            "div of 15 and 10 is 1.5\n"
          ]
        }
      ]
    },
    {
      "cell_type": "markdown",
      "source": [
        " 8. Write a program to demonstrate the use of logical operators.\n",
        "\n",
        "---\n",
        "\n"
      ],
      "metadata": {
        "id": "yLosYVdooSgv"
      }
    },
    {
      "cell_type": "code",
      "source": [
        "a = True\n",
        "b = False\n",
        "print(a and b) #and operator\n",
        "print(a or b) #or operator\n",
        "print(not a) #not operator"
      ],
      "metadata": {
        "id": "AfAuE_OLoVjP",
        "colab": {
          "base_uri": "https://localhost:8080/"
        },
        "outputId": "609a8c64-9d64-471b-ebcd-4975e784f2fb"
      },
      "execution_count": null,
      "outputs": [
        {
          "output_type": "stream",
          "name": "stdout",
          "text": [
            "False\n",
            "True\n",
            "False\n"
          ]
        }
      ]
    },
    {
      "cell_type": "markdown",
      "source": [
        " 9. Write a Python program to convert user input from string to integer, float, and boolean types."
      ],
      "metadata": {
        "id": "JRBlAKsmoV84"
      }
    },
    {
      "cell_type": "code",
      "source": [
        "user_input = input(\"enter a number: \")\n",
        "a = int(user_input)\n",
        "b = float(user_input)\n",
        "c = bool(user_input)\n",
        "print(a)\n",
        "print(b)\n",
        "print(c)"
      ],
      "metadata": {
        "colab": {
          "base_uri": "https://localhost:8080/"
        },
        "id": "cjuBldWvoXvu",
        "outputId": "ebe338f4-2fdb-439e-da22-70b6b9fb0176"
      },
      "execution_count": 12,
      "outputs": [
        {
          "output_type": "stream",
          "name": "stdout",
          "text": [
            "enter a number: 10\n",
            "10\n",
            "10.0\n",
            "True\n"
          ]
        }
      ]
    },
    {
      "cell_type": "markdown",
      "source": [
        "10. Write code to demonstrate type casting with list elements."
      ],
      "metadata": {
        "id": "CyLei7dYoYJH"
      }
    },
    {
      "cell_type": "code",
      "source": [
        "#type casting list element a float element in the list convert into integer\n",
        "a_list = [\"car\", \"bike\", 100 , 2.5, 25]\n",
        "a_list[3] = int(a_list[3])\n",
        "print(a_list[3])"
      ],
      "metadata": {
        "colab": {
          "base_uri": "https://localhost:8080/"
        },
        "id": "Gf_DbouaoZ5P",
        "outputId": "0240ffb0-092d-40a1-c075-4beb7913f122"
      },
      "execution_count": null,
      "outputs": [
        {
          "output_type": "stream",
          "name": "stdout",
          "text": [
            "2\n"
          ]
        }
      ]
    },
    {
      "cell_type": "markdown",
      "source": [
        " 11. Write a program that checks if a number is positive, negative, or zero."
      ],
      "metadata": {
        "id": "UpYb4IZsoaVJ"
      }
    },
    {
      "cell_type": "code",
      "source": [
        "num=int(input(\"enter a number: \"))\n",
        "if num>0:\n",
        "    print(\"number is positive\")\n",
        "elif num<0:\n",
        "    print(\"number is negative\")\n",
        "else:\n",
        "    print(\"number is zero\")"
      ],
      "metadata": {
        "colab": {
          "base_uri": "https://localhost:8080/"
        },
        "id": "ik5bXQVvobvA",
        "outputId": "f670a999-d517-4b4e-d770-b23cbe4f4920"
      },
      "execution_count": null,
      "outputs": [
        {
          "output_type": "stream",
          "name": "stdout",
          "text": [
            "enter a number: 2\n",
            "number is positive\n"
          ]
        }
      ]
    },
    {
      "cell_type": "markdown",
      "source": [
        " 12. Write a for loop to print numbers from 1 to 10."
      ],
      "metadata": {
        "id": "OK2AyivlocHH"
      }
    },
    {
      "cell_type": "code",
      "source": [
        "for i in range(1,11):\n",
        "    print(i)"
      ],
      "metadata": {
        "colab": {
          "base_uri": "https://localhost:8080/"
        },
        "id": "1qqjiCM-od5h",
        "outputId": "01bf5afc-84ce-44f3-f499-5bf6f4c0d200"
      },
      "execution_count": null,
      "outputs": [
        {
          "output_type": "stream",
          "name": "stdout",
          "text": [
            "1\n",
            "2\n",
            "3\n",
            "4\n",
            "5\n",
            "6\n",
            "7\n",
            "8\n",
            "9\n",
            "10\n"
          ]
        }
      ]
    },
    {
      "cell_type": "markdown",
      "source": [
        " 13. Write a Python program to find the sum of all even numbers between 1 and 50."
      ],
      "metadata": {
        "id": "vdwQbktsoeVm"
      }
    },
    {
      "cell_type": "code",
      "source": [
        "for i in range(1,51):\n",
        "    if i%2==0:\n",
        "        print(i)"
      ],
      "metadata": {
        "colab": {
          "base_uri": "https://localhost:8080/"
        },
        "id": "1xbkhfGNogVK",
        "outputId": "7e876993-75c1-4f73-b4e4-41d667c412e3"
      },
      "execution_count": null,
      "outputs": [
        {
          "output_type": "stream",
          "name": "stdout",
          "text": [
            "2\n",
            "4\n",
            "6\n",
            "8\n",
            "10\n",
            "12\n",
            "14\n",
            "16\n",
            "18\n",
            "20\n",
            "22\n",
            "24\n",
            "26\n",
            "28\n",
            "30\n",
            "32\n",
            "34\n",
            "36\n",
            "38\n",
            "40\n",
            "42\n",
            "44\n",
            "46\n",
            "48\n",
            "50\n"
          ]
        }
      ]
    },
    {
      "cell_type": "markdown",
      "source": [
        " 14. Write a program to reverse a string using a while loop.\n",
        "\n",
        "\n"
      ],
      "metadata": {
        "id": "RWLDk7TwohLN"
      }
    },
    {
      "cell_type": "code",
      "source": [
        "reverse = input(\"enter a string: \")\n",
        "while reverse:\n",
        "    print(reverse[-1])\n",
        "    reverse = reverse[:-1]"
      ],
      "metadata": {
        "id": "jVzcwmfpojHE",
        "colab": {
          "base_uri": "https://localhost:8080/"
        },
        "outputId": "8ed4facf-e5e6-46d9-be6a-a67abd468553"
      },
      "execution_count": null,
      "outputs": [
        {
          "output_type": "stream",
          "name": "stdout",
          "text": [
            "enter a string: none\n",
            "e\n",
            "n\n",
            "o\n",
            "n\n"
          ]
        }
      ]
    },
    {
      "cell_type": "markdown",
      "source": [
        " 15. Write a Python program to calculate the factorial of a number provided by the user using a while loop."
      ],
      "metadata": {
        "id": "McwbQC66okAF"
      }
    },
    {
      "cell_type": "code",
      "source": [
        "num = int(input(\"enter a number: \"))\n",
        "factorial = 1\n",
        "while num > 0:\n",
        "    factorial *= num\n",
        "    num -= 1\n",
        "print(factorial)"
      ],
      "metadata": {
        "id": "z1-3yqVwolvG",
        "colab": {
          "base_uri": "https://localhost:8080/"
        },
        "outputId": "99b4f67d-8582-4e7a-b55f-00e57b9796f1"
      },
      "execution_count": null,
      "outputs": [
        {
          "output_type": "stream",
          "name": "stdout",
          "text": [
            "enter a number: 5\n",
            "120\n"
          ]
        }
      ]
    }
  ]
}